{
 "cells": [
  {
   "cell_type": "code",
   "execution_count": 39,
   "metadata": {},
   "outputs": [],
   "source": [
    "import pandas as pd\n",
    "\n",
    "\n",
    "df = pd.read_excel('vendas.xlsx')\n",
    "\n"
   ]
  },
  {
   "cell_type": "code",
   "execution_count": 40,
   "metadata": {},
   "outputs": [
    {
     "name": "stdout",
     "output_type": "stream",
     "text": [
      "          data         loja         categoria          produto  quantidade  \\\n",
      "0   2024-07-20  Vento Norte  ELETRODOMESTICOS        Aquecedor         5.0   \n",
      "1   2024-05-30  Vento Norte           sazonal     Guarda-chuva         6.0   \n",
      "2   2024-01-25  Vento Norte            roupas            Calça         8.0   \n",
      "3   2024-07-10  Chuva Clara            roupas           Casaco         5.0   \n",
      "5   2024-08-31    Porto Sol           sazonal    Manta térmica         2.0   \n",
      "..         ...          ...               ...              ...         ...   \n",
      "495 2024-08-23    Porto Sol  eletrodomesticos       Ventilador         4.0   \n",
      "496 2024-12-19  Vento Norte  eletrodomesticos       Ventilador         1.0   \n",
      "497 2024-05-12    Vila Neve          infantil   Blusa Infantil         6.0   \n",
      "498 2024-03-08    Vila Neve  eletrodomesticos  Ar-condicionado         1.0   \n",
      "499 2024-07-25  Vento Norte           sazonal     Guarda-chuva         3.0   \n",
      "\n",
      "     valor_venda  \n",
      "0         405.55  \n",
      "1        2866.20  \n",
      "2        3292.72  \n",
      "3        1294.95  \n",
      "5         957.96  \n",
      "..           ...  \n",
      "495      1545.72  \n",
      "496       230.89  \n",
      "497       441.30  \n",
      "498       293.93  \n",
      "499      1479.81  \n",
      "\n",
      "[455 rows x 6 columns]\n"
     ]
    }
   ],
   "source": [
    "df = df[df['quantidade'].notna()]\n",
    "print(df)"
   ]
  },
  {
   "cell_type": "code",
   "execution_count": 41,
   "metadata": {},
   "outputs": [],
   "source": [
    "df = df[df['quantidade'].notna()]"
   ]
  },
  {
   "cell_type": "code",
   "execution_count": 42,
   "metadata": {},
   "outputs": [],
   "source": [
    "df['loja'] = df['loja'].str.title()\n",
    "df['categoria'] = df['categoria'].str.title()\n",
    "df['produto'] = df['produto'].str.title()\n",
    "\n",
    "df['loja'] = df['loja'].str.strip()\n",
    "df['categoria'] = df['categoria'].str.strip()\n",
    "df['produto'] = df['produto'].str.strip()\n"
   ]
  },
  {
   "cell_type": "code",
   "execution_count": 43,
   "metadata": {},
   "outputs": [],
   "source": [
    "df['data'] = pd.to_datetime(df['data'])"
   ]
  },
  {
   "cell_type": "code",
   "execution_count": 44,
   "metadata": {},
   "outputs": [],
   "source": [
    "df['valor_unitario'] = df['valor_venda'] / df['quantidade']"
   ]
  },
  {
   "cell_type": "code",
   "execution_count": 45,
   "metadata": {},
   "outputs": [
    {
     "name": "stdout",
     "output_type": "stream",
     "text": [
      "produto\n",
      "Aquecedor          209.27\n",
      "Ar-Condicionado    285.40\n",
      "Blusa Infantil     290.07\n",
      "Calça              266.70\n",
      "Camiseta           253.66\n",
      "Casaco             281.15\n",
      "Guarda-Chuva       265.00\n",
      "Lancheira          271.68\n",
      "Manta Térmica      261.93\n",
      "Mochila            303.51\n",
      "Protetor Solar     299.16\n",
      "Ventilador         287.49\n",
      "Vestido            298.54\n",
      "Name: valor_unitario, dtype: float64\n"
     ]
    }
   ],
   "source": [
    "valor_medio_por_produto = df.groupby('produto', dropna = True)['valor_unitario'].mean().round(2)\n",
    "print(valor_medio_por_produto)"
   ]
  },
  {
   "cell_type": "code",
   "execution_count": 46,
   "metadata": {},
   "outputs": [
    {
     "name": "stdout",
     "output_type": "stream",
     "text": [
      "            produto  valor_unitario\n",
      "0         Aquecedor          209.27\n",
      "1   Ar-Condicionado          285.40\n",
      "2    Blusa Infantil          290.07\n",
      "3             Calça          266.70\n",
      "4          Camiseta          253.66\n",
      "5            Casaco          281.15\n",
      "6      Guarda-Chuva          265.00\n",
      "7         Lancheira          271.68\n",
      "8     Manta Térmica          261.93\n",
      "9           Mochila          303.51\n",
      "10   Protetor Solar          299.16\n",
      "11       Ventilador          287.49\n",
      "12          Vestido          298.54\n"
     ]
    }
   ],
   "source": [
    "valor_medio= df.groupby('produto', dropna=True)['valor_unitario'].mean().round(2).reset_index()\n",
    "print(valor_medio)"
   ]
  },
  {
   "cell_type": "code",
   "execution_count": 47,
   "metadata": {},
   "outputs": [
    {
     "name": "stdout",
     "output_type": "stream",
     "text": [
      "          data         loja         categoria          produto  quantidade  \\\n",
      "0   2024-07-20  Vento Norte  Eletrodomesticos        Aquecedor         5.0   \n",
      "1   2024-05-30  Vento Norte           Sazonal     Guarda-Chuva         6.0   \n",
      "2   2024-01-25  Vento Norte            Roupas            Calça         8.0   \n",
      "3   2024-07-10  Chuva Clara            Roupas           Casaco         5.0   \n",
      "5   2024-08-31    Porto Sol           Sazonal    Manta Térmica         2.0   \n",
      "..         ...          ...               ...              ...         ...   \n",
      "495 2024-08-23    Porto Sol  Eletrodomesticos       Ventilador         4.0   \n",
      "496 2024-12-19  Vento Norte  Eletrodomesticos       Ventilador         1.0   \n",
      "497 2024-05-12    Vila Neve          Infantil   Blusa Infantil         6.0   \n",
      "498 2024-03-08    Vila Neve  Eletrodomesticos  Ar-Condicionado         1.0   \n",
      "499 2024-07-25  Vento Norte           Sazonal     Guarda-Chuva         3.0   \n",
      "\n",
      "     valor_venda  valor_unitario  \n",
      "0         405.55           81.11  \n",
      "1        2866.20          477.70  \n",
      "2        3292.72          411.59  \n",
      "3        1294.95          258.99  \n",
      "5         957.96          478.98  \n",
      "..           ...             ...  \n",
      "495      1545.72          386.43  \n",
      "496       230.89          230.89  \n",
      "497       441.30           73.55  \n",
      "498       293.93          293.93  \n",
      "499      1479.81          493.27  \n",
      "\n",
      "[455 rows x 7 columns]\n"
     ]
    },
    {
     "name": "stderr",
     "output_type": "stream",
     "text": [
      "C:\\Users\\44581098807\\AppData\\Local\\Temp\\ipykernel_14772\\4242369949.py:1: FutureWarning: A value is trying to be set on a copy of a DataFrame or Series through chained assignment using an inplace method.\n",
      "The behavior will change in pandas 3.0. This inplace method will never work because the intermediate object on which we are setting values always behaves as a copy.\n",
      "\n",
      "For example, when doing 'df[col].method(value, inplace=True)', try using 'df.method({col: value}, inplace=True)' or df[col] = df[col].method(value) instead, to perform the operation inplace on the original object.\n",
      "\n",
      "\n",
      "  df['valor_unitario'].fillna(0, inplace=True)\n"
     ]
    }
   ],
   "source": [
    "df['valor_unitario'].fillna(0, inplace=True)\n",
    "print(df)"
   ]
  },
  {
   "cell_type": "code",
   "execution_count": 48,
   "metadata": {},
   "outputs": [],
   "source": [
    "df['valor_venda'] = df['valor_unitario'] * df['quantidade']"
   ]
  },
  {
   "cell_type": "code",
   "execution_count": 49,
   "metadata": {},
   "outputs": [],
   "source": [
    "df.to_excel(\"vendas_limpo.xlsx\", index=False)"
   ]
  }
 ],
 "metadata": {
  "kernelspec": {
   "display_name": "Python 3",
   "language": "python",
   "name": "python3"
  },
  "language_info": {
   "codemirror_mode": {
    "name": "ipython",
    "version": 3
   },
   "file_extension": ".py",
   "mimetype": "text/x-python",
   "name": "python",
   "nbconvert_exporter": "python",
   "pygments_lexer": "ipython3",
   "version": "3.12.1"
  }
 },
 "nbformat": 4,
 "nbformat_minor": 2
}
